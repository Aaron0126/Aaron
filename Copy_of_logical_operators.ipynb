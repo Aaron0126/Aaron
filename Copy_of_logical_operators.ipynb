{
  "nbformat": 4,
  "nbformat_minor": 0,
  "metadata": {
    "colab": {
      "provenance": []
    },
    "kernelspec": {
      "name": "python3",
      "display_name": "Python 3"
    },
    "language_info": {
      "name": "python"
    }
  },
  "cells": [
    {
      "cell_type": "markdown",
      "source": [
        "\n",
        "### **Logical Operators**\n",
        "\n",
        "Logical operators are used to combine conditional statements.\n",
        "\n",
        "**1. `and` Operator:**\n",
        "- Returns `True` if both statements are true.\n",
        "  \n",
        "  **Example:**\n",
        "  ```python\n",
        "  age = 25\n",
        "  if age > 18 and age < 30:\n",
        "      print(\"You are a young adult.\")\n",
        "  ```\n",
        "\n",
        "**2. `or` Operator:**\n",
        "- Returns `True` if at least one of the statements is true.\n",
        "  \n",
        "  **Example:**\n",
        "  ```python\n",
        "  day = \"Sunday\"\n",
        "  if day == \"Saturday\" or day == \"Sunday\":\n",
        "      print(\"It's the weekend!\")\n",
        "  ```\n",
        "\n",
        "**3. `not` Operator:**\n",
        "- Used to reverse the result; returns `False` if the result is true and vice versa.\n",
        "  \n",
        "  **Example:**\n",
        "  ```python\n",
        "  is_raining = False\n",
        "  if not is_raining:\n",
        "      print(\"It's a sunny day!\")\n",
        "  ```\n",
        "\n",
        "---\n",
        "\n",
        "### **Nested Conditional Statements**\n",
        "\n",
        "Sometimes, you may want to evaluate a condition inside another condition. This is referred to as nesting.\n",
        "\n",
        "**Example:**\n",
        "```python\n",
        "age = 25\n",
        "gender = \"Female\"\n",
        "if age < 30:\n",
        "    if gender == \"Female\":\n",
        "        print(\"Young female.\")\n",
        "    else:\n",
        "        print(\"Young male.\")\n",
        "else:\n",
        "    if gender == \"Female\":\n",
        "        print(\"Mature female.\")\n",
        "    else:\n",
        "        print(\"Mature male.\")\n",
        "```\n",
        "\n",
        "In the example above, the outer `if` checks the age, and the inner `if` checks the gender, leading to more precise classifications.\n",
        "\n"
      ],
      "metadata": {
        "id": "_J_0H623DMoG"
      }
    },
    {
      "cell_type": "code",
      "source": [
        "#Test the examples above here"
      ],
      "metadata": {
        "id": "1tzurxbLDYuS"
      },
      "execution_count": null,
      "outputs": []
    },
    {
      "cell_type": "markdown",
      "source": [
        "### **Practice Exercises:**\n",
        "\n",
        "1. **Temperature Alert:**\n",
        "   - Ask the user for the current temperature and if it's raining (yes/no).\n",
        "   - If it's above 30°C and not raining, suggest wearing sunscreen. If it's below 30°C and raining, suggest taking an umbrella.\n",
        "\n",
        "\n",
        "\n"
      ],
      "metadata": {
        "id": "_2pb9LXWDcXE"
      }
    },
    {
      "cell_type": "code",
      "source": [
        "#Ex1\n",
        "trn=int(input(\"What is the temperature right now?\"))\n",
        "iir=str(input(\"Is it raining now?\"))\n",
        "if trn>=30 and iir ==\"yes\":\n",
        "  print(\"You would better wear a sunscreen\")\n",
        "if trn<30 and iir =='no':\n",
        "  print(\"You would better take an umbrella\")"
      ],
      "metadata": {
        "id": "AyCFWr2cDiuz"
      },
      "execution_count": null,
      "outputs": []
    },
    {
      "cell_type": "markdown",
      "source": [
        "2. **Movie Night:**\n",
        "   - Ask the user if they like action movies and if they like romantic movies.\n",
        "   - Recommend a movie based on their preferences:\n",
        "     - Action and romance: \"Mr. & Mrs. Smith\",\n",
        "     - Only action: \"Die Hard\",\n",
        "     - Only romance: \"Pride and Prejudice\",\n",
        "     - Neither: \"Try watching a documentary!\"\n",
        "\n"
      ],
      "metadata": {
        "id": "hne5hxgMDj0i"
      }
    },
    {
      "cell_type": "code",
      "source": [
        "#Ex2\n",
        "mtp=input(\"What kind of movie do you like, action or romantic?\")\n",
        "if mtp==\"action and romantic\":\n",
        "  if mtp==\"action and romance\":\n",
        "    if mtp==\"both\":\n",
        "      print(\"I'll recommand you to watch Mr. & Mrs. Smith\")\n",
        "elif mtp==\"action\":\n",
        "  print(\"I'll recommand you to watch Die Hard\")\n",
        "elif mtp==\"romance\":\n",
        "  if mtp==\"romantic\":\n",
        "    print(\"I'll recommand you to watch Pride and Prejudice\")\n",
        "elif mtp==\"neither\":\n",
        "  if mtp==\"none of them\":\n",
        "    print(\"Try watching a documentary!\")"
      ],
      "metadata": {
        "id": "m13PVPajDlwd",
        "colab": {
          "base_uri": "https://localhost:8080/"
        },
        "outputId": "868245e4-d91c-4ab7-ef88-a04c073c1b97"
      },
      "execution_count": 5,
      "outputs": [
        {
          "output_type": "stream",
          "name": "stdout",
          "text": [
            "What kind of movie do you like, action or romantic?action\n",
            "I'll recommand you to watch Die Hard\n"
          ]
        }
      ]
    },
    {
      "cell_type": "markdown",
      "source": [
        "3. **Eligibility for a Credit Card:**\n",
        "   - Ask the user for their age and monthly salary.\n",
        "   - If they are over 18 and earn more than $1,000 per month, inform them they are eligible for a credit card.\n"
      ],
      "metadata": {
        "id": "2DUNWDlsDmzl"
      }
    },
    {
      "cell_type": "code",
      "source": [
        "#Ex3\n",
        "arn=str(input(\"What's your age right now?\"))\n",
        "ms=int(input(\"What's your monthly salary?\"))\n",
        "if arn>=18 and ms>=1000:\n",
        "  print(\"You are eligible for a credit card\")\n",
        "else:\n",
        "  print(\"You are not eligible for a credit card\")"
      ],
      "metadata": {
        "id": "KiuF2ByZDoZG"
      },
      "execution_count": null,
      "outputs": []
    },
    {
      "cell_type": "markdown",
      "source": [
        "\n",
        "4. **Nested Age Bracket Classifier:**\n",
        "   - Ask the user for their age and gender.\n",
        "   - Classify them into 'Young/Mature Male/Female' using nested conditional statements.\n"
      ],
      "metadata": {
        "id": "0p0RmJMKDpdG"
      }
    },
    {
      "cell_type": "code",
      "source": [
        "age=int(input(\"Age: \"))\n",
        "gend=input(\"Gender: \")\n",
        "\n",
        "if age<40:\n",
        "  if gend.lower()==\"male\":\n",
        "    print(\"Young male\")\n",
        "  elif gend.lower()==\"female\":\n",
        "    print(\"Young female\")"
      ],
      "metadata": {
        "id": "QSi5-aToDrnK",
        "colab": {
          "base_uri": "https://localhost:8080/"
        },
        "outputId": "ed9b204a-c960-431a-eb39-93c30b551ad4"
      },
      "execution_count": 3,
      "outputs": [
        {
          "output_type": "stream",
          "name": "stdout",
          "text": [
            "What is your age right now1999\n",
            "Are you a male or female?12\n",
            "/12\n"
          ]
        }
      ]
    },
    {
      "cell_type": "markdown",
      "source": [
        "\n",
        "5. **Weekend Activity Planner:**\n",
        "   - Ask the user if it's a weekend and if the weather is good.\n",
        "   - Provide activity suggestions based on their answers:\n",
        "     - Weekend and good weather: \"Go for a picnic!\",\n",
        "     - Weekend and bad weather: \"Maybe watch a movie at home?\",\n",
        "     - Weekday and good weather: \"Don't forget your sunglasses on your way to work!\",\n",
        "     - Weekday and bad weather: \"Take an umbrella today.\""
      ],
      "metadata": {
        "id": "tyG7h84BDsrX"
      }
    },
    {
      "cell_type": "code",
      "source": [
        "#Ex5\n",
        "itw=(input(\"Is today a weekday or weekend?\"))\n",
        "iwig=(input(\"Is the weather good today?\"))\n",
        "if itw==\"weekend\" and iwig==\"yes\":\n",
        "  print(\"Go for a picnic!\")\n",
        "elif itw==\"weekend\" and iwig==\"no\":\n",
        "  print(\"Maybe watch a movie at home?\")\n",
        "elif itw==\"weekday\" and iwig==\"yes\":\n",
        "  print(\"Don't forget your sunglasses on your way to work!\")\n",
        "elif itw==\"weekday\" and iwig==\"no\":\n",
        "  print(\"Take an umbrella today.\")\n"
      ],
      "metadata": {
        "id": "7q-ze3tCDtgQ",
        "colab": {
          "base_uri": "https://localhost:8080/"
        },
        "outputId": "2c0a3401-37e3-460b-baf0-e02bd56cf545"
      },
      "execution_count": 4,
      "outputs": [
        {
          "output_type": "stream",
          "name": "stdout",
          "text": [
            "Is today a weekday or weekend?weekend\n",
            "Is the weather good today?yes\n",
            "Go for a picnic\n"
          ]
        }
      ]
    }
  ]
}