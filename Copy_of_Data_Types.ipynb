{
  "nbformat": 4,
  "nbformat_minor": 0,
  "metadata": {
    "colab": {
      "provenance": []
    },
    "kernelspec": {
      "name": "python3",
      "display_name": "Python 3"
    },
    "language_info": {
      "name": "python"
    }
  },
  "cells": [
    {
      "cell_type": "markdown",
      "source": [
        "\n",
        "### **Data Types Introduction**\n",
        "\n",
        "- **What are Data Types?**\n",
        "    - In computer science, a data type is a classification that specifies which type of value a variable can hold. Think of it as a label for the kind of data (e.g., numbers, texts, true/false values) we're dealing with.\n",
        "    - For instance, if we label something as a 'text' type, it means the variable will hold textual information like names, addresses, etc.\n",
        "\n",
        "#### **Why Do We Need Different Data Types?**\n",
        "1. **Efficiency:** Different data types use different amounts of memory. By choosing the right data type, we ensure our programs run efficiently.\n",
        "2. **Precision:** Some tasks require precision. For instance, financial calculations might need decimal values instead of whole numbers.\n",
        "3. **Clarity:** Using the right data type makes the code more readable and understandable.\n",
        "4. **Error Prevention:** Certain operations are only valid for specific data types. Having the right type can prevent errors. For example, you wouldn't want to accidentally add someone's name to their age.\n",
        "\n",
        "---\n",
        "\n",
        "### **Integers and Floats**\n",
        "\n",
        "#### **Definition and Examples of Integers and Floats**\n",
        "- **Integers:**\n",
        "    - These are whole numbers that can be positive, negative, or zero. They do not have decimal points.\n",
        "    - Examples: -3, -2, -1, 0, 1, 2, 3, ...\n",
        "- **Floats:**\n",
        "    - Also known as floating-point numbers, these are numbers that have a decimal point.\n",
        "    - They can represent real numbers (both rational and irrational numbers).\n",
        "    - Examples: -3.5, 0.0, 2.71, 3.14, ...\n",
        "\n",
        "#### **The Difference Between the Two**\n",
        "1. **Representation:** Integers are whole numbers without a decimal point, while floats have a decimal point.\n",
        "2. **Memory:** Floats typically require more memory than integers due to the precision they carry.\n",
        "3. **Operations:** Some operations might yield different results. For instance, dividing two integers might truncate the result, whereas dividing two floats will retain the decimal portion.\n",
        "\n",
        "#### **Practice: Create Variables of Integer and Float Types and Perform Basic Arithmetic Operations**\n",
        "1. **Creating Variables:**\n",
        "```python\n",
        "int_variable = 5\n",
        "float_variable = 5.5\n",
        "```\n",
        "2. **Arithmetic Operations:**\n",
        "    - **Addition:** `int_variable + 3` will result in `8`, but `float_variable + 3` will result in `8.5`.\n",
        "    - **Division:** `int_variable / 2` might differ in some languages in its result compared to `float_variable / 2`. In Python 3, both will return a float, but in some languages, integer division truncates the result.\n",
        "    - **Multiplication:** `int_variable * 2` will result in `10`, and `float_variable * 2` will result in `11.0`.\n",
        "\n",
        "3. **Experimentation:** Create your own integer and float variables and experiment with various arithmetic operations to observe the outcomes.\n",
        "\n",
        "---\n"
      ],
      "metadata": {
        "id": "LBu00G47APLR"
      }
    },
    {
      "cell_type": "code",
      "source": [
        "#Experiment with integers and floats in this cell\n",
        "int_variable=10\n",
        "float_variable=12\n",
        "print(int_variable + 3)\n",
        "print(float_variable + 3)\n",
        "\n"
      ],
      "metadata": {
        "id": "LCcqz0c-EMxq",
        "colab": {
          "base_uri": "https://localhost:8080/"
        },
        "outputId": "c7f51826-03d6-4da7-aebf-84dd95d90b44"
      },
      "execution_count": 1,
      "outputs": [
        {
          "output_type": "stream",
          "name": "stdout",
          "text": [
            "13\n",
            "15\n"
          ]
        }
      ]
    },
    {
      "cell_type": "markdown",
      "source": [
        "**1. Coffee Shop Calculator**\n",
        "   \n",
        "**Objective:** Calculate the total cost of items ordered at a coffee shop.\n",
        "\n",
        "- **Instructions:**\n",
        "   - Imagine you're visiting your favorite coffee shop.\n",
        "   - Use the `input()` function to ask the user to specify the number of espressos, lattes, and muffins they'd like to \"buy\". Convert these to integer values.\n",
        "   - Similarly, take user input for the prices of each item and convert these to float values.\n",
        "   - Write a program to calculate and display the total cost.\n",
        "\n",
        "---"
      ],
      "metadata": {
        "id": "bBnOPo9OEAEW"
      }
    },
    {
      "cell_type": "code",
      "source": [
        "#Your code for exercise 1 in here\n",
        "es_price=10\n",
        "la_price=15\n",
        "mu_price=23\n",
        "\n",
        "print(\"How much espressos would you like?\")\n",
        "espressos = int(input())\n",
        "print(\"How much lattes would you like?\")\n",
        "lattes = int(input())\n",
        "print(\"How much muffins would you like?\")\n",
        "muffins = int(input())\n",
        "print(\"total price:\")\n",
        "print(\"$\", es_price*espressos+la_price*lattes+mu_price*muffins)\n",
        "\n"
      ],
      "metadata": {
        "id": "ymdlxypHEeHA",
        "colab": {
          "base_uri": "https://localhost:8080/"
        },
        "outputId": "e6268f23-7213-4084-f75f-7b5c810b8e70"
      },
      "execution_count": 4,
      "outputs": [
        {
          "output_type": "stream",
          "name": "stdout",
          "text": [
            "How much espressos would you like?\n",
            "5\n",
            "How much lattes would you like?\n",
            "3\n",
            "How much muffins would you like?\n",
            "5\n",
            "total price:\n",
            "$ 210\n"
          ]
        }
      ]
    },
    {
      "cell_type": "markdown",
      "source": [
        "**2. Rocket Launch Countdown**\n",
        "   \n",
        "**Objective:** Simulate a rocket launch countdown.\n",
        "\n",
        "- **Instructions:**\n",
        "   - Use the `input()` function to ask the user for a starting countdown number and convert it to an integer.\n",
        "   - Write a loop that subtracts 1 from the variable and prints the current countdown number each iteration.\n",
        "   - Add a delay (using time.sleep in Python) of 0.5 seconds between each countdown number.\n",
        "\n",
        "---\n"
      ],
      "metadata": {
        "id": "5cn16bvxEiz5"
      }
    },
    {
      "cell_type": "code",
      "source": [
        "#Your code for exercise 2 in here\n",
        "import time\n",
        "num=int(input(\"Enter countdown number:\"))\n",
        "while num>0:\n",
        "  print(num)\n",
        "  num-=1\n",
        "  time.sleep(0.5)\n",
        "print(\"ya\")"
      ],
      "metadata": {
        "id": "ys1WJFJWEncP",
        "colab": {
          "base_uri": "https://localhost:8080/"
        },
        "outputId": "2d7fc4e7-239e-44f7-f79d-bba1a7de09e0"
      },
      "execution_count": 7,
      "outputs": [
        {
          "output_type": "stream",
          "name": "stdout",
          "text": [
            "Enter countdown number:5\n",
            "5\n",
            "4\n",
            "3\n",
            "2\n",
            "1\n",
            "ya\n"
          ]
        }
      ]
    },
    {
      "cell_type": "markdown",
      "source": [
        "**3. Your Weight on Other Planets**\n",
        "   \n",
        "**Objective:** Find out how much you'd weigh on different planets based on their gravity.\n",
        "\n",
        "- **Instructions:**\n",
        "   - Use the `input()` function to ask the user for their weight on Earth and convert this to a float.\n",
        "   - Create float variables for the gravity factor of different planets (e.g., Mars is about 0.38 of Earth's gravity).\n",
        "   - Calculate and display how much they'd weigh on each of these planets.\n",
        "\n",
        "---"
      ],
      "metadata": {
        "id": "_4CLsHIKEsGa"
      }
    },
    {
      "cell_type": "code",
      "source": [
        "#Exercise 3\n",
        "print(\"What is your weight on earth?\")\n",
        "weight=int(input())\n",
        "print(\"mars\", weight*0.38)\n",
        "print(\"jupiter\", weight*2.53)\n",
        "print(\"venus\", weight*0.9)\n",
        "print(\"moon\", weight*0.17)\n",
        "print(\"mercury\", weight*0.38)\n",
        "print(\"saturn\", weight*1.07)\n",
        "print(\"uranus\", weight*0.89)\n",
        "print(\"neptune\", weight*1.14)\n"
      ],
      "metadata": {
        "id": "2CGVY3iiEvR9",
        "colab": {
          "base_uri": "https://localhost:8080/"
        },
        "outputId": "32ef56dd-718b-43fe-e1a6-482ac735da51"
      },
      "execution_count": 16,
      "outputs": [
        {
          "output_type": "stream",
          "name": "stdout",
          "text": [
            "What is ypur weight on earth?\n",
            "5\n",
            "mars 1.9\n",
            "jupiter 12.649999999999999\n",
            "venus 4.5\n",
            "moon 0.8500000000000001\n",
            "mercury 1.9\n",
            "saturn 5.3500000000000005\n",
            "uranus 4.45\n",
            "neptune 5.699999999999999\n"
          ]
        }
      ]
    },
    {
      "cell_type": "markdown",
      "source": [
        "**4. Pizza Party Calculator**\n",
        "   \n",
        "**Objective:** Calculate the cost per slice of pizza.\n",
        "\n",
        "- **Instructions:**\n",
        "   - Use the `input()` function to ask the user how many pizzas they bought and the total cost. Convert these values appropriately (integer for number of pizzas, float for cost).\n",
        "   - Ask the user to specify how many slices each pizza has and convert this to an integer.\n",
        "   - Calculate and display the cost per slice.\n",
        "\n",
        "---"
      ],
      "metadata": {
        "id": "iSGrrgiNExxp"
      }
    },
    {
      "cell_type": "code",
      "source": [
        "#Exercise 4\n",
        "print(\"How much is the pizza?\")\n",
        "price_of_pizza = float(input ())\n",
        "print(\"How many slice do you want?\")\n",
        "slice_of_pizza = float(input ())\n",
        "print(\"The price per each slice: $\", price_of_pizza/slice_of_pizza)\n",
        "\n"
      ],
      "metadata": {
        "id": "QFiXisVwE0ZR",
        "colab": {
          "base_uri": "https://localhost:8080/"
        },
        "outputId": "f2f4dfc6-b332-4ede-bc9d-2e2bd41c3e4d"
      },
      "execution_count": 1,
      "outputs": [
        {
          "output_type": "stream",
          "name": "stdout",
          "text": [
            "How much is the pizza?\n",
            "6\n",
            "How many slice do you want?\n",
            "7\n",
            "The price per each slice: $ 0.8571428571428571\n"
          ]
        }
      ]
    },
    {
      "cell_type": "markdown",
      "source": [
        "\n",
        "**5. Travel Budget Calculator**\n",
        "   \n",
        "**Objective:** Calculate the total budget required for a trip.\n",
        "\n",
        "- **Instructions:**\n",
        "   - Imagine you're planning a trip to your dream destination.\n",
        "   - Use the `input()` function to ask the user for the number of days they plan to stay and convert this to an integer.\n",
        "   - Ask the user to specify the estimated daily expenses for food, accommodation, and sightseeing. Convert these to float values.\n",
        "   - Write a program to calculate and display the total estimated cost for the trip.\n",
        "\n",
        "---"
      ],
      "metadata": {
        "id": "bgTECsKHE3CF"
      }
    },
    {
      "cell_type": "code",
      "source": [
        "#Exercise 5\n",
        "days_planed = int(input(\"Number of days you plan to stay: \"))\n",
        "food = float(input(\"Expenses for food: \"))\n",
        "acco = float(input(\"Expenses for accommodation: \"))\n",
        "sight = float(input(\"Expenses for sightseeing: \"))\n",
        "\n",
        "print(\"Total amount: $\", float((food + acco + sight)*days_planed))\n",
        "\n",
        "\n"
      ],
      "metadata": {
        "id": "sT4Q-aYuE4jM",
        "colab": {
          "base_uri": "https://localhost:8080/"
        },
        "outputId": "4bc27918-def5-4557-bf8b-f6ac62016282"
      },
      "execution_count": 6,
      "outputs": [
        {
          "output_type": "stream",
          "name": "stdout",
          "text": [
            "Number of days you plan to stay: 5\n",
            "Expenses for food: 3\n",
            "Expenses for accommodation: 4\n",
            "Expenses for sightseeing: 3\n",
            "Total amount: $ 50.0\n"
          ]
        }
      ]
    }
  ]
}