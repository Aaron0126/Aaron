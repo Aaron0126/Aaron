{
  "nbformat": 4,
  "nbformat_minor": 0,
  "metadata": {
    "colab": {
      "provenance": [],
      "include_colab_link": true
    },
    "kernelspec": {
      "name": "python3",
      "display_name": "Python 3"
    },
    "language_info": {
      "name": "python"
    }
  },
  "cells": [
    {
      "cell_type": "markdown",
      "metadata": {
        "id": "view-in-github",
        "colab_type": "text"
      },
      "source": [
        "<a href=\"https://colab.research.google.com/github/Aaron0126/Aaron/blob/main/Copy_of_conditional_statements.ipynb\" target=\"_parent\"><img src=\"https://colab.research.google.com/assets/colab-badge.svg\" alt=\"Open In Colab\"/></a>"
      ]
    },
    {
      "cell_type": "markdown",
      "source": [
        "### **Introduction to Conditional Statements**\n",
        "\n",
        "Conditional statements allow a program to evaluate specific conditions and make decisions based on those conditions. They introduce the concept of branching, where a program can follow different paths of execution based on certain criteria.\n",
        "\n",
        "---\n",
        "\n",
        "### **Understanding if, elif, and else Statements**\n",
        "\n",
        "**1. `if` Statement:**\n",
        "- The most basic type of conditional statement.\n",
        "- Evaluates a condition, and if it's `True`, the code inside the `if` block is executed.\n",
        "\n",
        "  **Example:**\n",
        "  ```python\n",
        "  age = 20\n",
        "  if age >= 18:\n",
        "      print(\"You are an adult!\")\n",
        "  ```\n",
        "\n",
        "**2. `elif` Statement:**\n",
        "- Short for \"else if\".\n",
        "- Used to check multiple conditions after the initial `if` condition.\n",
        "- The `elif` block is executed if its condition is `True`.\n",
        "\n",
        "  **Example:**\n",
        "  ```python\n",
        "  score = 85\n",
        "  if score >= 90:\n",
        "      grade = \"A\"\n",
        "  elif score >= 80:\n",
        "      grade = \"B\"\n",
        "  ```\n",
        "\n",
        "**3. `else` Statement:**\n",
        "- Catches anything which isn't caught by the preceding conditions.\n",
        "- Does not have a condition attached to it.\n",
        "\n",
        "  **Example:**\n",
        "  ```python\n",
        "  age = 15\n",
        "  if age >= 18:\n",
        "      print(\"You are an adult!\")\n",
        "  else:\n",
        "      print(\"You are a minor!\")\n",
        "  ```\n",
        "\n",
        "---\n",
        "\n",
        "### **Writing Conditions Using Comparison Operators**\n",
        "\n",
        "**1. `==`:** Checks if two values are equal.\n",
        "  - **Example:** `x == y`\n",
        "\n",
        "**2. `!=`:** Checks if two values are not equal.\n",
        "  - **Example:** `x != y`\n",
        "\n",
        "**3. `>`:** Checks if the value on the left is greater than the one on the right.\n",
        "  - **Example:** `x > y`\n",
        "\n",
        "**4. `<`:** Checks if the value on the left is less than the one on the right.\n",
        "  - **Example:** `x < y`\n",
        "\n",
        "**5. `>=`:** Checks if the value on the left is greater than or equal to the one on the right.\n",
        "  - **Example:** `x >= y`\n",
        "\n",
        "**6. `<=`:** Checks if the value on the left is less than or equal to the one on the right.\n",
        "  - **Example:** `x <= y`\n",
        "\n",
        "---\n"
      ],
      "metadata": {
        "id": "CjxdWcqxPhy0"
      }
    },
    {
      "cell_type": "markdown",
      "source": [
        "\n",
        "### **Practice Exercises:**\n",
        "\n",
        "1. **Weekday or Weekend:**\n",
        "    - Ask the user to input a day of the week (e.g., Monday, Tuesday, etc.).\n",
        "    - Inform them if the day is a weekday or a weekend.\n",
        "\n"
      ],
      "metadata": {
        "id": "Jim4Rsi7Pn0G"
      }
    },
    {
      "cell_type": "code",
      "source": [
        "dotw=str(input(\"Enter a day in a week:\"))\n",
        "if dotw==\"monday\":\n",
        "  print(\"It is a weekday\")\n",
        "if dotw==\"tuesday\":\n",
        "  print(\"It is a weekday\")\n",
        "if dotw==\"wednesday\":\n",
        "  print(\"It is a weekday\")\n",
        "if dotw==\"thursday\":\n",
        "  print(\"It is a weekday\")\n",
        "if dotw==\"friday\":\n",
        "  print(\"It is a weekday\")\n",
        "if dotw==\"saturday\":\n",
        "  print(\"It is a weekend\")\n",
        "if dotw==\"sunday\":\n",
        "  print(\"It is a weekend\")"
      ],
      "metadata": {
        "id": "TkrdpDJXRKeJ"
      },
      "execution_count": null,
      "outputs": []
    },
    {
      "cell_type": "markdown",
      "source": [
        "2. **Password Strength Checker:**\n",
        "    - Ask the user to input a password.\n",
        "    - Check if the password has at least 8 characters, starts with an uppercase letter, and ends with a number. Provide feedback on its strength.\n"
      ],
      "metadata": {
        "id": "1JPiLpsURKzz"
      }
    },
    {
      "cell_type": "code",
      "source": [
        "e_pw=str(input(\"Enter your password here!\"))\n",
        "\n",
        "if len(e_pw) > 8:\n",
        "  if e_pw [0].isupper():\n",
        "    if e_pw [-1].isdigit():\n",
        "      print(\"Your password is available\")\n",
        "else:\n",
        "  print(\"Your password doesn't match the requirement\")\n"
      ],
      "metadata": {
        "id": "sHB4UhrHRMy5",
        "colab": {
          "base_uri": "https://localhost:8080/"
        },
        "outputId": "a489ba6d-b3af-4071-b3a6-3bd6d5ccbf82"
      },
      "execution_count": null,
      "outputs": [
        {
          "output_type": "stream",
          "name": "stdout",
          "text": [
            "Enter your password here!E1234567890\n",
            "Your password is available\n"
          ]
        }
      ]
    },
    {
      "cell_type": "markdown",
      "source": [
        "3. **Movie Ticket Pricing:**\n",
        "    - Movie theaters often have different pricing depending on age groups.\n",
        "    - Children under 12: $5, Teens (12-17): $7, Adults (18-59): $10, Seniors (60+): $6.\n",
        "    - Ask the user for their age and tell them the cost of a movie ticket.\n"
      ],
      "metadata": {
        "id": "QABbfxrVRNfo"
      }
    },
    {
      "cell_type": "code",
      "source": [
        "s_a=(int(input(\"What is your age?\")))\n",
        "if s_a<12:\n",
        "  print(\"$5\")\n",
        "elif s_a>=12 and s_a<=17:\n",
        "  print(\"$7\")\n",
        "elif s_a>=18 and s_a<=59:\n",
        "  print(\"$10\")\n",
        "elif s_a>60:\n",
        "  print(\"$6\")"
      ],
      "metadata": {
        "id": "-i4B1AYyRPGp",
        "colab": {
          "base_uri": "https://localhost:8080/"
        },
        "outputId": "abae0ed6-34ea-4750-d811-78bb25d34311"
      },
      "execution_count": null,
      "outputs": [
        {
          "name": "stdout",
          "output_type": "stream",
          "text": [
            "What is your age?18\n"
          ]
        }
      ]
    },
    {
      "cell_type": "markdown",
      "source": [
        "4. **Tax Calculator:**\n",
        "    - Depending on the amount of income, people are taxed at different rates.\n",
        "    - Income up to $10,000: No tax, Income $10,001-$50,000: 10% tax, Income $50,001 and above: 20% tax.\n",
        "    - Ask the user for their income and calculate the tax they owe.\n",
        "\n"
      ],
      "metadata": {
        "id": "4RMhCDsXRPTO"
      }
    },
    {
      "cell_type": "code",
      "source": [
        "income=float(input(\"Income: \"))\n",
        "if income<=10000:\n",
        "  print(\"No tax\")\n",
        "elif income>1000 and income<=50000:\n",
        "  print(\"Tax:\", 0.1*income)\n",
        "else:\n",
        "  print(\"20tax\", 0.2*income)\n"
      ],
      "metadata": {
        "id": "ijEDRr8FRSm0"
      },
      "execution_count": null,
      "outputs": []
    },
    {
      "cell_type": "markdown",
      "source": [
        "5. **Discount Eligibility:**\n",
        "    - A store offers a discount to students and senior citizens.\n",
        "    - Ask the user if they are a student or a senior citizen (yes or no for each). If they answer \"yes\" to either, inform them they are eligible for a discount.\n",
        "\n"
      ],
      "metadata": {
        "id": "qonCcp_PRTDL"
      }
    },
    {
      "cell_type": "code",
      "source": [
        "d_e_stu=str(input(\"Are you a student?\"))\n",
        "d_e_sen=str(input(\"Are you a senior citizen?\"))\n",
        "if d_e_stu == \"yes\" or d_e_sen == \"yes\":\n",
        "  print(\"You are eligible for a discount.\")\n",
        "else:\n",
        "  print(\"Sorry! You are not eligible for a discount.\")"
      ],
      "metadata": {
        "id": "5YBnUfs-RUku",
        "colab": {
          "base_uri": "https://localhost:8080/"
        },
        "outputId": "ecbba381-7024-4994-fca1-552dd7d38f5b"
      },
      "execution_count": null,
      "outputs": [
        {
          "output_type": "stream",
          "name": "stdout",
          "text": [
            "Are you a student?no\n",
            "Are you a senior citizen?no\n",
            "You are not eligible for a discount.\n"
          ]
        }
      ]
    },
    {
      "cell_type": "markdown",
      "source": [
        "6. **Shipping Cost Calculator:**\n",
        "    - Shipping costs vary based on the weight of a package.\n",
        "    - Weight up to 1kg: $5, Weight 1.1kg-5kg: $10, Weight above 5kg: $20.\n",
        "    - Ask the user for the weight of their package and tell them the shipping cost.\n",
        "\n"
      ],
      "metadata": {
        "id": "vSf3pJOFRVGk"
      }
    },
    {
      "cell_type": "code",
      "source": [
        "s_c=int(input(\"What is the weight of your package?\"))\n",
        "if s_c<=1:\n",
        "  print(\"Shipping cost: $5\")\n",
        "elif s_c>1 and s_c<=5:\n",
        "  print(\"Shipping cost: $10\")\n",
        "else:\n",
        "  print(\"Shipping cost: $20\")\n"
      ],
      "metadata": {
        "id": "1roU2zvFRWbR"
      },
      "execution_count": null,
      "outputs": []
    },
    {
      "cell_type": "markdown",
      "source": [
        "7. **Drink Selector:**\n",
        "    - Ask the user for their age.\n",
        "    - If they are under 18, suggest a non-alcoholic drink (like juice or soda). If they are 18 and above, suggest an alcoholic beverage (like wine or beer)."
      ],
      "metadata": {
        "id": "WXtyKwyYRWzS"
      }
    },
    {
      "cell_type": "code",
      "source": [
        "a_n=int(input(\"What is your age right now?\"))\n",
        "if a_n>=18:\n",
        "  print(\"We have wine and beer, which one would you like?\")\n",
        "else:\n",
        "  print(\"We have juice and soda, which one would you like?\")"
      ],
      "metadata": {
        "id": "iG4YUGa5RXeM",
        "colab": {
          "base_uri": "https://localhost:8080/"
        },
        "outputId": "af548445-ccff-4939-a05e-e0a2637d4aa5"
      },
      "execution_count": null,
      "outputs": [
        {
          "output_type": "stream",
          "name": "stdout",
          "text": [
            "What is your age right now?18\n",
            "We have wine and beer, which one would you like?\n"
          ]
        }
      ]
    }
  ]
}